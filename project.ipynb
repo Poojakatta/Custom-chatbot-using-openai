{
 "cells": [
  {
   "cell_type": "markdown",
   "id": "124e5672",
   "metadata": {},
   "source": [
    "# Custom Chatbot Project"
   ]
  },
  {
   "cell_type": "markdown",
   "id": "2a4a94b3",
   "metadata": {},
   "source": [
    "\n",
    "I chose the 2023_fashion_trends.csv dataset because it contains detailed reports and quotes about fashion trends for 2023. Each row includes the source URL, article title, and text snippet, providing a rich context for understanding current fashion dynamics. This data is crucial for training an AI model to predict future trends by analyzing patterns in the latest fashion reports."
   ]
  },
  {
   "cell_type": "markdown",
   "id": "a63d4c5f",
   "metadata": {},
   "source": [
    "## Data Wrangling\n"
   ]
  },
  {
   "cell_type": "code",
   "execution_count": 1,
   "id": "c69b83a1",
   "metadata": {},
   "outputs": [],
   "source": [
    "import pandas as pd"
   ]
  },
  {
   "cell_type": "code",
   "execution_count": 15,
   "id": "0a595980",
   "metadata": {},
   "outputs": [
    {
     "data": {
      "text/html": [
       "<div>\n",
       "<style scoped>\n",
       "    .dataframe tbody tr th:only-of-type {\n",
       "        vertical-align: middle;\n",
       "    }\n",
       "\n",
       "    .dataframe tbody tr th {\n",
       "        vertical-align: top;\n",
       "    }\n",
       "\n",
       "    .dataframe thead th {\n",
       "        text-align: right;\n",
       "    }\n",
       "</style>\n",
       "<table border=\"1\" class=\"dataframe\">\n",
       "  <thead>\n",
       "    <tr style=\"text-align: right;\">\n",
       "      <th></th>\n",
       "      <th>URL</th>\n",
       "      <th>Trends</th>\n",
       "      <th>Source</th>\n",
       "    </tr>\n",
       "  </thead>\n",
       "  <tbody>\n",
       "    <tr>\n",
       "      <th>0</th>\n",
       "      <td>https://www.refinery29.com/en-us/fashion-trend...</td>\n",
       "      <td>2023 Fashion Trend: Red. Glossy red hues took ...</td>\n",
       "      <td>7 Fashion Trends That Will Take Over 2023 — Sh...</td>\n",
       "    </tr>\n",
       "    <tr>\n",
       "      <th>1</th>\n",
       "      <td>https://www.refinery29.com/en-us/fashion-trend...</td>\n",
       "      <td>2023 Fashion Trend: Cargo Pants. Utilitarian w...</td>\n",
       "      <td>7 Fashion Trends That Will Take Over 2023 — Sh...</td>\n",
       "    </tr>\n",
       "    <tr>\n",
       "      <th>2</th>\n",
       "      <td>https://www.refinery29.com/en-us/fashion-trend...</td>\n",
       "      <td>2023 Fashion Trend: Sheer Clothing. \"Bare it a...</td>\n",
       "      <td>7 Fashion Trends That Will Take Over 2023 — Sh...</td>\n",
       "    </tr>\n",
       "    <tr>\n",
       "      <th>3</th>\n",
       "      <td>https://www.refinery29.com/en-us/fashion-trend...</td>\n",
       "      <td>2023 Fashion Trend: Denim Reimagined. From dou...</td>\n",
       "      <td>7 Fashion Trends That Will Take Over 2023 — Sh...</td>\n",
       "    </tr>\n",
       "    <tr>\n",
       "      <th>4</th>\n",
       "      <td>https://www.refinery29.com/en-us/fashion-trend...</td>\n",
       "      <td>2023 Fashion Trend: Shine For The Daytime. The...</td>\n",
       "      <td>7 Fashion Trends That Will Take Over 2023 — Sh...</td>\n",
       "    </tr>\n",
       "    <tr>\n",
       "      <th>...</th>\n",
       "      <td>...</td>\n",
       "      <td>...</td>\n",
       "      <td>...</td>\n",
       "    </tr>\n",
       "    <tr>\n",
       "      <th>77</th>\n",
       "      <td>https://www.whowhatwear.com/spring-summer-2023...</td>\n",
       "      <td>If lime green isn't your vibe, rest assured th...</td>\n",
       "      <td>Spring/Summer 2023 Fashion Trends: 21 Expert-A...</td>\n",
       "    </tr>\n",
       "    <tr>\n",
       "      <th>78</th>\n",
       "      <td>https://www.whowhatwear.com/spring-summer-2023...</td>\n",
       "      <td>\"As someone who can clearly (not fondly) remem...</td>\n",
       "      <td>Spring/Summer 2023 Fashion Trends: 21 Expert-A...</td>\n",
       "    </tr>\n",
       "    <tr>\n",
       "      <th>79</th>\n",
       "      <td>https://www.whowhatwear.com/spring-summer-2023...</td>\n",
       "      <td>\"Combine this design shift with the fact that ...</td>\n",
       "      <td>Spring/Summer 2023 Fashion Trends: 21 Expert-A...</td>\n",
       "    </tr>\n",
       "    <tr>\n",
       "      <th>80</th>\n",
       "      <td>https://www.whowhatwear.com/spring-summer-2023...</td>\n",
       "      <td>Thought party season ended at the stroke of mi...</td>\n",
       "      <td>Spring/Summer 2023 Fashion Trends: 21 Expert-A...</td>\n",
       "    </tr>\n",
       "    <tr>\n",
       "      <th>81</th>\n",
       "      <td>https://www.whowhatwear.com/spring-summer-2023...</td>\n",
       "      <td>\"This season, we saw the revival of the bubble...</td>\n",
       "      <td>Spring/Summer 2023 Fashion Trends: 21 Expert-A...</td>\n",
       "    </tr>\n",
       "  </tbody>\n",
       "</table>\n",
       "<p>82 rows × 3 columns</p>\n",
       "</div>"
      ],
      "text/plain": [
       "                                                  URL  \\\n",
       "0   https://www.refinery29.com/en-us/fashion-trend...   \n",
       "1   https://www.refinery29.com/en-us/fashion-trend...   \n",
       "2   https://www.refinery29.com/en-us/fashion-trend...   \n",
       "3   https://www.refinery29.com/en-us/fashion-trend...   \n",
       "4   https://www.refinery29.com/en-us/fashion-trend...   \n",
       "..                                                ...   \n",
       "77  https://www.whowhatwear.com/spring-summer-2023...   \n",
       "78  https://www.whowhatwear.com/spring-summer-2023...   \n",
       "79  https://www.whowhatwear.com/spring-summer-2023...   \n",
       "80  https://www.whowhatwear.com/spring-summer-2023...   \n",
       "81  https://www.whowhatwear.com/spring-summer-2023...   \n",
       "\n",
       "                                               Trends  \\\n",
       "0   2023 Fashion Trend: Red. Glossy red hues took ...   \n",
       "1   2023 Fashion Trend: Cargo Pants. Utilitarian w...   \n",
       "2   2023 Fashion Trend: Sheer Clothing. \"Bare it a...   \n",
       "3   2023 Fashion Trend: Denim Reimagined. From dou...   \n",
       "4   2023 Fashion Trend: Shine For The Daytime. The...   \n",
       "..                                                ...   \n",
       "77  If lime green isn't your vibe, rest assured th...   \n",
       "78  \"As someone who can clearly (not fondly) remem...   \n",
       "79  \"Combine this design shift with the fact that ...   \n",
       "80  Thought party season ended at the stroke of mi...   \n",
       "81  \"This season, we saw the revival of the bubble...   \n",
       "\n",
       "                                               Source  \n",
       "0   7 Fashion Trends That Will Take Over 2023 — Sh...  \n",
       "1   7 Fashion Trends That Will Take Over 2023 — Sh...  \n",
       "2   7 Fashion Trends That Will Take Over 2023 — Sh...  \n",
       "3   7 Fashion Trends That Will Take Over 2023 — Sh...  \n",
       "4   7 Fashion Trends That Will Take Over 2023 — Sh...  \n",
       "..                                                ...  \n",
       "77  Spring/Summer 2023 Fashion Trends: 21 Expert-A...  \n",
       "78  Spring/Summer 2023 Fashion Trends: 21 Expert-A...  \n",
       "79  Spring/Summer 2023 Fashion Trends: 21 Expert-A...  \n",
       "80  Spring/Summer 2023 Fashion Trends: 21 Expert-A...  \n",
       "81  Spring/Summer 2023 Fashion Trends: 21 Expert-A...  \n",
       "\n",
       "[82 rows x 3 columns]"
      ]
     },
     "execution_count": 15,
     "metadata": {},
     "output_type": "execute_result"
    }
   ],
   "source": [
    "df =  pd.read_csv('data/2023_fashion_trends.csv')\n",
    "df"
   ]
  },
  {
   "cell_type": "code",
   "execution_count": 16,
   "id": "574673a6",
   "metadata": {},
   "outputs": [
    {
     "name": "stdout",
     "output_type": "stream",
     "text": [
      "Unique values in 'URL': ['https://www.refinery29.com/en-us/fashion-trends-2023'\n",
      " 'https://www.instyle.com/spring-2023-fashion-trends-stylists-7229445'\n",
      " 'https://www.glamour.com/story/spring-fashion-trends'\n",
      " 'https://www.vogue.com/article/spring-2023-trends-editors-picks'\n",
      " 'https://www.whowhatwear.com/spring-summer-2023-fashion-trends/']\n",
      "\n"
     ]
    }
   ],
   "source": [
    "print(f\"Unique values in 'URL': {df['URL'].unique()}\\n\")"
   ]
  },
  {
   "cell_type": "code",
   "execution_count": 17,
   "id": "2ecb741e",
   "metadata": {},
   "outputs": [
    {
     "name": "stdout",
     "output_type": "stream",
     "text": [
      "Unique values in 'Source': ['7 Fashion Trends That Will Take Over 2023 — Shop Them Now'\n",
      " 'The Top 6 Trends to Wear for Spring 2023, According to Fashion Experts'\n",
      " '9 Spring 2023 Fashion Trends You’ll Want to Try ASAP'\n",
      " 'These Are the Spring 2023 Trends Vogue Editors are Wearing Now'\n",
      " 'Spring/Summer 2023 Fashion Trends: 21 Expert-Approved Looks You Need to See']\n",
      "\n"
     ]
    }
   ],
   "source": [
    "print(f\"Unique values in 'Source': {df['Source'].unique()}\\n\")"
   ]
  },
  {
   "cell_type": "markdown",
   "id": "e1dd45c2",
   "metadata": {},
   "source": [
    "We will ignore the URL column as it doesnt provide much information about fashion trends. Our primary focus is chatbot bot shouldbe able to answer different questions about fashion trends and source of knowdledge"
   ]
  },
  {
   "cell_type": "code",
   "execution_count": 24,
   "id": "cfa382bf",
   "metadata": {},
   "outputs": [
    {
     "data": {
      "text/html": [
       "<div>\n",
       "<style scoped>\n",
       "    .dataframe tbody tr th:only-of-type {\n",
       "        vertical-align: middle;\n",
       "    }\n",
       "\n",
       "    .dataframe tbody tr th {\n",
       "        vertical-align: top;\n",
       "    }\n",
       "\n",
       "    .dataframe thead th {\n",
       "        text-align: right;\n",
       "    }\n",
       "</style>\n",
       "<table border=\"1\" class=\"dataframe\">\n",
       "  <thead>\n",
       "    <tr style=\"text-align: right;\">\n",
       "      <th></th>\n",
       "      <th>text</th>\n",
       "    </tr>\n",
       "  </thead>\n",
       "  <tbody>\n",
       "    <tr>\n",
       "      <th>0</th>\n",
       "      <td>7 Fashion Trends That Will Take Over 2023 — Sh...</td>\n",
       "    </tr>\n",
       "    <tr>\n",
       "      <th>1</th>\n",
       "      <td>7 Fashion Trends That Will Take Over 2023 — Sh...</td>\n",
       "    </tr>\n",
       "    <tr>\n",
       "      <th>2</th>\n",
       "      <td>7 Fashion Trends That Will Take Over 2023 — Sh...</td>\n",
       "    </tr>\n",
       "    <tr>\n",
       "      <th>3</th>\n",
       "      <td>7 Fashion Trends That Will Take Over 2023 — Sh...</td>\n",
       "    </tr>\n",
       "    <tr>\n",
       "      <th>4</th>\n",
       "      <td>7 Fashion Trends That Will Take Over 2023 — Sh...</td>\n",
       "    </tr>\n",
       "  </tbody>\n",
       "</table>\n",
       "</div>"
      ],
      "text/plain": [
       "                                                text\n",
       "0  7 Fashion Trends That Will Take Over 2023 — Sh...\n",
       "1  7 Fashion Trends That Will Take Over 2023 — Sh...\n",
       "2  7 Fashion Trends That Will Take Over 2023 — Sh...\n",
       "3  7 Fashion Trends That Will Take Over 2023 — Sh...\n",
       "4  7 Fashion Trends That Will Take Over 2023 — Sh..."
      ]
     },
     "execution_count": 24,
     "metadata": {},
     "output_type": "execute_result"
    }
   ],
   "source": [
    "df['text'] = df['Source'] + \": \" + df['Trends'] \n",
    "context_df = df[['text']]\n",
    "context_df.head()"
   ]
  },
  {
   "cell_type": "markdown",
   "id": "ae769871",
   "metadata": {},
   "source": [
    "## Custom Query Completion\n",
    "\n",
    "TODO: In the cells below, compose a custom query using your chosen dataset and retrieve results from an OpenAI `Completion` model. You may copy and paste any useful code from the course materials."
   ]
  },
  {
   "cell_type": "code",
   "execution_count": 25,
   "id": "582f0656",
   "metadata": {},
   "outputs": [],
   "source": [
    "import openai\n",
    "openai.api_base = \"https://openai.vocareum.com/v1\"\n",
    "openai.api_key = \"YOUR_API_KEY\""
   ]
  },
  {
   "cell_type": "markdown",
   "id": "ce4ab9ab",
   "metadata": {},
   "source": [
    "### Generate Embeddings"
   ]
  },
  {
   "cell_type": "code",
   "execution_count": 27,
   "id": "8b6e1f75",
   "metadata": {},
   "outputs": [
    {
     "name": "stderr",
     "output_type": "stream",
     "text": [
      "/tmp/ipykernel_13/1683699497.py:14: SettingWithCopyWarning: \n",
      "A value is trying to be set on a copy of a slice from a DataFrame.\n",
      "Try using .loc[row_indexer,col_indexer] = value instead\n",
      "\n",
      "See the caveats in the documentation: https://pandas.pydata.org/pandas-docs/stable/user_guide/indexing.html#returning-a-view-versus-a-copy\n",
      "  context_df[\"embeddings\"] = embeddings\n"
     ]
    },
    {
     "data": {
      "text/html": [
       "<div>\n",
       "<style scoped>\n",
       "    .dataframe tbody tr th:only-of-type {\n",
       "        vertical-align: middle;\n",
       "    }\n",
       "\n",
       "    .dataframe tbody tr th {\n",
       "        vertical-align: top;\n",
       "    }\n",
       "\n",
       "    .dataframe thead th {\n",
       "        text-align: right;\n",
       "    }\n",
       "</style>\n",
       "<table border=\"1\" class=\"dataframe\">\n",
       "  <thead>\n",
       "    <tr style=\"text-align: right;\">\n",
       "      <th></th>\n",
       "      <th>text</th>\n",
       "      <th>embeddings</th>\n",
       "    </tr>\n",
       "  </thead>\n",
       "  <tbody>\n",
       "    <tr>\n",
       "      <th>0</th>\n",
       "      <td>7 Fashion Trends That Will Take Over 2023 — Sh...</td>\n",
       "      <td>[-0.012525820173323154, -0.018886486068367958,...</td>\n",
       "    </tr>\n",
       "    <tr>\n",
       "      <th>1</th>\n",
       "      <td>7 Fashion Trends That Will Take Over 2023 — Sh...</td>\n",
       "      <td>[-0.0004611983022186905, -0.02565864473581314,...</td>\n",
       "    </tr>\n",
       "    <tr>\n",
       "      <th>2</th>\n",
       "      <td>7 Fashion Trends That Will Take Over 2023 — Sh...</td>\n",
       "      <td>[-0.005023584701120853, -0.019245469942688942,...</td>\n",
       "    </tr>\n",
       "    <tr>\n",
       "      <th>3</th>\n",
       "      <td>7 Fashion Trends That Will Take Over 2023 — Sh...</td>\n",
       "      <td>[-0.011233633384108543, -0.004244845826178789,...</td>\n",
       "    </tr>\n",
       "    <tr>\n",
       "      <th>4</th>\n",
       "      <td>7 Fashion Trends That Will Take Over 2023 — Sh...</td>\n",
       "      <td>[-0.002507895464077592, 0.001525498111732304, ...</td>\n",
       "    </tr>\n",
       "    <tr>\n",
       "      <th>...</th>\n",
       "      <td>...</td>\n",
       "      <td>...</td>\n",
       "    </tr>\n",
       "    <tr>\n",
       "      <th>77</th>\n",
       "      <td>Spring/Summer 2023 Fashion Trends: 21 Expert-A...</td>\n",
       "      <td>[0.0027618866879493, -0.006688065826892853, 0....</td>\n",
       "    </tr>\n",
       "    <tr>\n",
       "      <th>78</th>\n",
       "      <td>Spring/Summer 2023 Fashion Trends: 21 Expert-A...</td>\n",
       "      <td>[-0.012536266818642616, -0.007762456312775612,...</td>\n",
       "    </tr>\n",
       "    <tr>\n",
       "      <th>79</th>\n",
       "      <td>Spring/Summer 2023 Fashion Trends: 21 Expert-A...</td>\n",
       "      <td>[-0.017829135060310364, -0.01425536535680294, ...</td>\n",
       "    </tr>\n",
       "    <tr>\n",
       "      <th>80</th>\n",
       "      <td>Spring/Summer 2023 Fashion Trends: 21 Expert-A...</td>\n",
       "      <td>[-0.014865371398627758, -0.01371782273054123, ...</td>\n",
       "    </tr>\n",
       "    <tr>\n",
       "      <th>81</th>\n",
       "      <td>Spring/Summer 2023 Fashion Trends: 21 Expert-A...</td>\n",
       "      <td>[-0.024080920964479446, 0.0009439761051908135,...</td>\n",
       "    </tr>\n",
       "  </tbody>\n",
       "</table>\n",
       "<p>82 rows × 2 columns</p>\n",
       "</div>"
      ],
      "text/plain": [
       "                                                 text  \\\n",
       "0   7 Fashion Trends That Will Take Over 2023 — Sh...   \n",
       "1   7 Fashion Trends That Will Take Over 2023 — Sh...   \n",
       "2   7 Fashion Trends That Will Take Over 2023 — Sh...   \n",
       "3   7 Fashion Trends That Will Take Over 2023 — Sh...   \n",
       "4   7 Fashion Trends That Will Take Over 2023 — Sh...   \n",
       "..                                                ...   \n",
       "77  Spring/Summer 2023 Fashion Trends: 21 Expert-A...   \n",
       "78  Spring/Summer 2023 Fashion Trends: 21 Expert-A...   \n",
       "79  Spring/Summer 2023 Fashion Trends: 21 Expert-A...   \n",
       "80  Spring/Summer 2023 Fashion Trends: 21 Expert-A...   \n",
       "81  Spring/Summer 2023 Fashion Trends: 21 Expert-A...   \n",
       "\n",
       "                                           embeddings  \n",
       "0   [-0.012525820173323154, -0.018886486068367958,...  \n",
       "1   [-0.0004611983022186905, -0.02565864473581314,...  \n",
       "2   [-0.005023584701120853, -0.019245469942688942,...  \n",
       "3   [-0.011233633384108543, -0.004244845826178789,...  \n",
       "4   [-0.002507895464077592, 0.001525498111732304, ...  \n",
       "..                                                ...  \n",
       "77  [0.0027618866879493, -0.006688065826892853, 0....  \n",
       "78  [-0.012536266818642616, -0.007762456312775612,...  \n",
       "79  [-0.017829135060310364, -0.01425536535680294, ...  \n",
       "80  [-0.014865371398627758, -0.01371782273054123, ...  \n",
       "81  [-0.024080920964479446, 0.0009439761051908135,...  \n",
       "\n",
       "[82 rows x 2 columns]"
      ]
     },
     "execution_count": 27,
     "metadata": {},
     "output_type": "execute_result"
    }
   ],
   "source": [
    "EMBEDDING_MODEL_NAME = \"text-embedding-ada-002\"\n",
    "embeddings = []\n",
    "\n",
    "# Send each row of text data to OpenAI model to get embeddings\n",
    "for i in range(len(context_df)):\n",
    "    text = context_df.loc[i, \"text\"]\n",
    "    response = openai.Embedding.create(\n",
    "        input=[text],\n",
    "        engine=EMBEDDING_MODEL_NAME\n",
    "    )\n",
    "    # Add embedding to list\n",
    "    embeddings.append(response[\"data\"][0][\"embedding\"])\n",
    "\n",
    "# Add embeddings list to dataframe\n",
    "context_df[\"embeddings\"] = embeddings\n",
    "context_df"
   ]
  },
  {
   "cell_type": "markdown",
   "id": "a6f63e5b",
   "metadata": {},
   "source": [
    "### Saving embedding to CSV file"
   ]
  },
  {
   "cell_type": "code",
   "execution_count": 30,
   "id": "c403f543",
   "metadata": {},
   "outputs": [],
   "source": [
    "df.to_csv(\"data/embeddings.csv\")"
   ]
  },
  {
   "cell_type": "code",
   "execution_count": 31,
   "id": "74280b92",
   "metadata": {},
   "outputs": [],
   "source": [
    "# get question embeddings\n",
    "def get_question_embedding(question):\n",
    "    response = openai.Embedding.create(\n",
    "        input=[text],\n",
    "        engine=EMBEDDING_MODEL_NAME\n",
    "    )\n",
    "    return response[\"data\"][0][\"embedding\"]"
   ]
  },
  {
   "cell_type": "code",
   "execution_count": 32,
   "id": "c726a0d3",
   "metadata": {},
   "outputs": [],
   "source": [
    "from scipy import spatial\n",
    "\n",
    "def distances_between_query_and_context(query_embedding, embeddings):\n",
    "  return [spatial.distance.cosine(query_embedding, emb) for emb in embeddings]\n"
   ]
  },
  {
   "cell_type": "code",
   "execution_count": 39,
   "id": "114b280a",
   "metadata": {},
   "outputs": [],
   "source": [
    "def get_prompt(question, df):\n",
    "    # Get the embedding for the question\n",
    "    query_embedding = get_question_embedding(question)\n",
    "    \n",
    "    # Calculate distances from the question embedding to each embedding in the DataFrame\n",
    "    df['distances'] = distances_between_query_and_context(query_embedding, df['embeddings'])\n",
    "    \n",
    "    # Sort the DataFrame by distances\n",
    "    df_sorted = df.sort_values(by='distances')\n",
    "    \n",
    "    # Create the context from the top 5 closest embeddings\n",
    "    context = \"\\n\\n###\\n\\n\".join(df_sorted['text'].head(5))\n",
    "    \n",
    "    # Construct the prompt\n",
    "    prompt = (\n",
    "        f\"Answer the question based on the context below, and if the \"\n",
    "        f\"question can't be answered based on the context, say \"\n",
    "        f\"\\\"I don't know\\\"\\n\\n\"\n",
    "        f\"Context:\\n\\n{context}\\n\\n\"\n",
    "        f\"---\\n\\n\"\n",
    "        f\"Question: {question}\\n\"\n",
    "        f\"Answer:\"\n",
    "    )\n",
    "    \n",
    "    return prompt"
   ]
  },
  {
   "cell_type": "markdown",
   "id": "1783f146",
   "metadata": {},
   "source": [
    "## Custom Performance Demonstration\n",
    "\n",
    "TODO: In the cells below, demonstrate the performance of your custom query using at least 2 questions. For each question, show the answer from a basic `Completion` model query as well as the answer from your custom query."
   ]
  },
  {
   "cell_type": "code",
   "execution_count": 35,
   "id": "c2aa6f3f",
   "metadata": {},
   "outputs": [],
   "source": [
    "basic_query_1 = \"What is the latest fashion trend. can you give top 2 models?\"\n",
    "basic_query_2 = \"Is mesh fabric still in fashion? If yes provide source\""
   ]
  },
  {
   "cell_type": "code",
   "execution_count": 43,
   "id": "4bd0b950",
   "metadata": {},
   "outputs": [
    {
     "name": "stderr",
     "output_type": "stream",
     "text": [
      "/tmp/ipykernel_13/1075742179.py:6: SettingWithCopyWarning: \n",
      "A value is trying to be set on a copy of a slice from a DataFrame.\n",
      "Try using .loc[row_indexer,col_indexer] = value instead\n",
      "\n",
      "See the caveats in the documentation: https://pandas.pydata.org/pandas-docs/stable/user_guide/indexing.html#returning-a-view-versus-a-copy\n",
      "  df['distances'] = distances_between_query_and_context(query_embedding, df['embeddings'])\n"
     ]
    },
    {
     "name": "stdout",
     "output_type": "stream",
     "text": [
      "CUSTOM QUERY 1: \n",
      " Answer the question based on the context below, and if the question can't be answered based on the context, say \"I don't know\"\n",
      "\n",
      "Context:\n",
      "\n",
      "Spring/Summer 2023 Fashion Trends: 21 Expert-Approved Looks You Need to See: \"This season, we saw the revival of the bubble skirt. Styled with printed snakeskin and powerful shoulders at Khaite, longer versions at Proenza Schouler reimagined with a low-waist silhouette and Simone Rocha's metallic mini bubble; these were all highlights,\" says Wiggins.\n",
      "\n",
      "###\n",
      "\n",
      "Spring/Summer 2023 Fashion Trends: 21 Expert-Approved Looks You Need to See: \"Sheer fashion dominated the trends conversations for S/S 23 as seen at Simone Rocha, Christopher Kane, Rick Owens and Molly Goddard. We loved Molly Goddard's romantic take on the trend, featuring her signature ruffle details on sheer orange midi dresses,\" says Wiggins.\n",
      "\n",
      "###\n",
      "\n",
      "Spring/Summer 2023 Fashion Trends: 21 Expert-Approved Looks You Need to See: For spring 2023, there was a more surrealist interpretation with standout 3D designs and runway looks embellished with floral motifs. Standouts included provocative sculptural flowers on mini and maxi dresses paired with bold leaf shoes, says Page.\n",
      "\n",
      "###\n",
      "\n",
      "Spring/Summer 2023 Fashion Trends: 21 Expert-Approved Looks You Need to See: \"The movement could be traced back to Jonathan Anderson's cult-adored blur-print tube dresses from Loewe last summer—the designer kick-started a revival for formfitting trompe l'oeil and cyber prints, and the look appears to be holding strong for S/S 23. But there is also another side to this creative coin; I've noticed an air of bohemia for smudgy surface patterns, with some designers combining lighter-weight, billowing fabrics alongside painterly ombrés to great effect. It's very 'I work in the arts, darling.'\" \n",
      "\n",
      "###\n",
      "\n",
      "Spring/Summer 2023 Fashion Trends: 21 Expert-Approved Looks You Need to See: \"Every season, there is a trend that speaks to the inner maximalist in us. While autumn gave us lurid neons, biker boots and Y2K glamour, spring/summer 2023 presents something a little sweeter, and those with an aversion to all things 'pretty,' consider this your warning to look away now,\" says Remy Farrell, shopping editor at Who What Wear UK.\n",
      "\n",
      "---\n",
      "\n",
      "Question: What is the latest fashion trend. can you give top 2 models?\n",
      "Answer:\n",
      "CUSTOM QUERY 2: \n",
      " Answer the question based on the context below, and if the question can't be answered based on the context, say \"I don't know\"\n",
      "\n",
      "Context:\n",
      "\n",
      "Spring/Summer 2023 Fashion Trends: 21 Expert-Approved Looks You Need to See: \"This season, we saw the revival of the bubble skirt. Styled with printed snakeskin and powerful shoulders at Khaite, longer versions at Proenza Schouler reimagined with a low-waist silhouette and Simone Rocha's metallic mini bubble; these were all highlights,\" says Wiggins.\n",
      "\n",
      "###\n",
      "\n",
      "Spring/Summer 2023 Fashion Trends: 21 Expert-Approved Looks You Need to See: \"Sheer fashion dominated the trends conversations for S/S 23 as seen at Simone Rocha, Christopher Kane, Rick Owens and Molly Goddard. We loved Molly Goddard's romantic take on the trend, featuring her signature ruffle details on sheer orange midi dresses,\" says Wiggins.\n",
      "\n",
      "###\n",
      "\n",
      "Spring/Summer 2023 Fashion Trends: 21 Expert-Approved Looks You Need to See: For spring 2023, there was a more surrealist interpretation with standout 3D designs and runway looks embellished with floral motifs. Standouts included provocative sculptural flowers on mini and maxi dresses paired with bold leaf shoes, says Page.\n",
      "\n",
      "###\n",
      "\n",
      "Spring/Summer 2023 Fashion Trends: 21 Expert-Approved Looks You Need to See: \"The movement could be traced back to Jonathan Anderson's cult-adored blur-print tube dresses from Loewe last summer—the designer kick-started a revival for formfitting trompe l'oeil and cyber prints, and the look appears to be holding strong for S/S 23. But there is also another side to this creative coin; I've noticed an air of bohemia for smudgy surface patterns, with some designers combining lighter-weight, billowing fabrics alongside painterly ombrés to great effect. It's very 'I work in the arts, darling.'\" \n",
      "\n",
      "###\n",
      "\n",
      "Spring/Summer 2023 Fashion Trends: 21 Expert-Approved Looks You Need to See: \"Every season, there is a trend that speaks to the inner maximalist in us. While autumn gave us lurid neons, biker boots and Y2K glamour, spring/summer 2023 presents something a little sweeter, and those with an aversion to all things 'pretty,' consider this your warning to look away now,\" says Remy Farrell, shopping editor at Who What Wear UK.\n",
      "\n",
      "---\n",
      "\n",
      "Question: Is mesh fabric still in fashion? If yes provide source\n",
      "Answer:\n"
     ]
    }
   ],
   "source": [
    "custom_query_1 = get_prompt(basic_query_1, context_df)\n",
    "print(\"CUSTOM QUERY 1: \\n {}\".format(custom_query_1))\n",
    "custom_query_2 = get_prompt(basic_query_2, context_df)\n",
    "print(\"CUSTOM QUERY 2: \\n {}\".format(custom_query_2))"
   ]
  },
  {
   "cell_type": "markdown",
   "id": "4f11fdc0",
   "metadata": {},
   "source": [
    "### Question 1"
   ]
  },
  {
   "cell_type": "code",
   "execution_count": 59,
   "id": "4901c850",
   "metadata": {},
   "outputs": [
    {
     "name": "stdout",
     "output_type": "stream",
     "text": [
      "The latest fashion trend is sustainable and eco-friendly fashion. Two models that embody this trend are Stella McCartney, who uses only sustainable materials in her designs, and Gigi Hadid, who promotes ethical and sustainable fashion choices.\n"
     ]
    }
   ],
   "source": [
    "COMPLETION_MODEL_NAME = \"gpt-3.5-turbo-instruct\"\n",
    "\n",
    "response = openai.Completion.create(\n",
    "    model=COMPLETION_MODEL_NAME,\n",
    "    prompt=basic_query_1,\n",
    "    max_tokens=200)\n",
    "\n",
    "print(response[\"choices\"][0][\"text\"].strip())"
   ]
  },
  {
   "cell_type": "code",
   "execution_count": 60,
   "id": "bd7a093b",
   "metadata": {},
   "outputs": [
    {
     "name": "stdout",
     "output_type": "stream",
     "text": [
      "The latest fashion trend for spring/summer 2023 is a return to the bubble skirt, as highlighted by Khaite, Proenza Schouler, and Simone Rocha. Other top trends include sheer fashion (seen at Simone Rocha, Christopher Kane, Rick Owens, and Molly Goddard) and surrealistic designs with floral motifs (as seen at Loewe).\n"
     ]
    }
   ],
   "source": [
    "COMPLETION_MODEL_NAME = \"gpt-3.5-turbo-instruct\"\n",
    "\n",
    "response = openai.Completion.create(\n",
    "    model=COMPLETION_MODEL_NAME,\n",
    "    prompt=custom_query_1,\n",
    "    max_tokens=200)\n",
    "\n",
    "print(response[\"choices\"][0][\"text\"].strip())"
   ]
  },
  {
   "cell_type": "markdown",
   "id": "6e86e37c",
   "metadata": {},
   "source": [
    "### Question 2"
   ]
  },
  {
   "cell_type": "code",
   "execution_count": 61,
   "id": "6f646989",
   "metadata": {},
   "outputs": [
    {
     "name": "stdout",
     "output_type": "stream",
     "text": [
      "Mesh fabric is still considered fashionable in certain contexts, but its popularity may vary, depending on the current fashion trends.\n",
      "\n",
      "According to Vogue magazine, mesh fabric has been making a comeback in recent years, especially in athleisure and streetwear fashion. It is often used in sportswear, such as basketball jerseys and running leggings, and in urban streetstyle, adding a touch of edge and uniqueness to outfits.\n",
      "\n",
      "Celebrities like Rihanna and Kylie Jenner have been seen wearing mesh fabric in various forms, from mesh tops to mesh dresses, proving that it is still in fashion.\n",
      "\n",
      "Additionally, mesh fabric has been featured in fashion collections of notable designers, such as Alexander Wang, Fendi, and Balmain, further cementing its place in the fashion world.\n",
      "\n",
      "Overall, while mesh fabric may not be considered a timeless classic, it is definitely a versatile and stylish option in certain areas of fashion.\n"
     ]
    }
   ],
   "source": [
    "COMPLETION_MODEL_NAME = \"gpt-3.5-turbo-instruct\"\n",
    "\n",
    "response = openai.Completion.create(\n",
    "    model=COMPLETION_MODEL_NAME,\n",
    "    prompt=basic_query_2,\n",
    "    max_tokens=200)\n",
    "\n",
    "print(response[\"choices\"][0][\"text\"].strip())"
   ]
  },
  {
   "cell_type": "code",
   "execution_count": 62,
   "id": "11c07a54",
   "metadata": {},
   "outputs": [
    {
     "name": "stdout",
     "output_type": "stream",
     "text": [
      "Yes, mesh fabric is still in fashion according to the Spring/Summer 2023 Fashion Trends report from Who What Wear UK.\n"
     ]
    }
   ],
   "source": [
    "COMPLETION_MODEL_NAME = \"gpt-3.5-turbo-instruct\"\n",
    "\n",
    "response = openai.Completion.create(\n",
    "    model=COMPLETION_MODEL_NAME,\n",
    "    prompt=custom_query_2,\n",
    "    max_tokens=200)\n",
    "\n",
    "print(response[\"choices\"][0][\"text\"].strip())"
   ]
  },
  {
   "cell_type": "code",
   "execution_count": null,
   "id": "5a12f1b2",
   "metadata": {},
   "outputs": [],
   "source": []
  }
 ],
 "metadata": {
  "kernelspec": {
   "display_name": "Python 3 (ipykernel)",
   "language": "python",
   "name": "python3"
  },
  "language_info": {
   "codemirror_mode": {
    "name": "ipython",
    "version": 3
   },
   "file_extension": ".py",
   "mimetype": "text/x-python",
   "name": "python",
   "nbconvert_exporter": "python",
   "pygments_lexer": "ipython3",
   "version": "3.9.18"
  }
 },
 "nbformat": 4,
 "nbformat_minor": 5
}
